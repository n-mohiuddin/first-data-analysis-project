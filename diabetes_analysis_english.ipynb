{
 "cells": [
  {
   "cell_type": "code",
   "execution_count": null,
   "id": "182145b0",
   "metadata": {},
   "outputs": [],
   "source": [
    "# Import necessary libraries"
   ]
  },
  {
   "cell_type": "code",
   "execution_count": null,
   "id": "fcd77795",
   "metadata": {},
   "outputs": [],
   "source": [
    "import pandas as pd\n",
    "import numpy as np\n",
    "import seaborn as sns\n",
    "import matplotlib.pyplot as plt\n",
    "from sklearn.preprocessing import StandardScaler\n",
    "from sklearn.linear_model import LogisticRegression\n",
    "from sklearn.model_selection import StratifiedKFold, cross_val_score"
   ]
  },
  {
   "cell_type": "code",
   "execution_count": null,
   "id": "73ce03a2",
   "metadata": {},
   "outputs": [],
   "source": [
    "# Load the dataset"
   ]
  },
  {
   "cell_type": "code",
   "execution_count": null,
   "id": "82274d0a",
   "metadata": {},
   "outputs": [],
   "source": [
    "df = pd.read_csv(\"diabetes.csv\")\n",
    "df.head()"
   ]
  },
  {
   "cell_type": "code",
   "execution_count": null,
   "id": "3779cec4",
   "metadata": {},
   "outputs": [],
   "source": [
    "# Data overview"
   ]
  },
  {
   "cell_type": "code",
   "execution_count": null,
   "id": "507094f4",
   "metadata": {},
   "outputs": [],
   "source": [
    "print(df.info())\n",
    "df.describe()"
   ]
  },
  {
   "cell_type": "code",
   "execution_count": null,
   "id": "3aa2f5bc",
   "metadata": {},
   "outputs": [],
   "source": [
    "# Visualize class distribution"
   ]
  },
  {
   "cell_type": "code",
   "execution_count": null,
   "id": "421abd1e",
   "metadata": {},
   "outputs": [],
   "source": [
    "sns.countplot(x='Outcome', data=df)\n",
    "plt.title(\"Class Distribution (Outcome)\")\n",
    "plt.show()\n",
    "df['Outcome'].value_counts()"
   ]
  },
  {
   "cell_type": "code",
   "execution_count": null,
   "id": "82cb4ddf",
   "metadata": {},
   "outputs": [],
   "source": [
    "# Check for zero values in critical columns"
   ]
  },
  {
   "cell_type": "code",
   "execution_count": null,
   "id": "f9eda108",
   "metadata": {},
   "outputs": [],
   "source": [
    "suspicious_cols = [\"Glucose\", \"BloodPressure\", \"SkinThickness\", \"Insulin\", \"BMI\"]\n",
    "for col in df.columns:\n",
    "    print(f\"{col}: {(df[col] == 0).sum()} zeros\")"
   ]
  },
  {
   "cell_type": "code",
   "execution_count": null,
   "id": "ea357123",
   "metadata": {},
   "outputs": [],
   "source": [
    "# Boxplot for outlier detection"
   ]
  },
  {
   "cell_type": "code",
   "execution_count": null,
   "id": "a66a61cf",
   "metadata": {},
   "outputs": [],
   "source": [
    "fig, axes = plt.subplots(1, len(suspicious_cols), figsize=(20, 4))\n",
    "for i, col in enumerate(suspicious_cols):\n",
    "    sns.boxplot(y=df[col], ax=axes[i], color='lightblue')\n",
    "    axes[i].set_title(col)\n",
    "plt.tight_layout()\n",
    "plt.show()"
   ]
  },
  {
   "cell_type": "code",
   "execution_count": null,
   "id": "e97fa680",
   "metadata": {},
   "outputs": [],
   "source": [
    "# Replace zero values with NaN"
   ]
  },
  {
   "cell_type": "code",
   "execution_count": null,
   "id": "a5b7e769",
   "metadata": {},
   "outputs": [],
   "source": [
    "df[suspicious_cols] = df[suspicious_cols].replace(0, np.nan)\n",
    "df.isnull().sum()"
   ]
  },
  {
   "cell_type": "code",
   "execution_count": null,
   "id": "d7d83732",
   "metadata": {},
   "outputs": [],
   "source": [
    "# Impute missing values (mean or median)"
   ]
  },
  {
   "cell_type": "code",
   "execution_count": null,
   "id": "3b27b592",
   "metadata": {},
   "outputs": [],
   "source": [
    "mean_cols = [\"Glucose\", \"BloodPressure\", \"BMI\"]\n",
    "median_cols = [\"SkinThickness\", \"Insulin\"]\n",
    "for col in mean_cols:\n",
    "    df[col] = df[col].fillna(df[col].mean())\n",
    "for col in median_cols:\n",
    "    df[col] = df[col].fillna(df[col].median())\n",
    "df.isnull().sum()"
   ]
  },
  {
   "cell_type": "code",
   "execution_count": null,
   "id": "faa13ad7",
   "metadata": {},
   "outputs": [],
   "source": [
    "# Split features and target"
   ]
  },
  {
   "cell_type": "code",
   "execution_count": null,
   "id": "8a579193",
   "metadata": {},
   "outputs": [],
   "source": [
    "X = df.drop(\"Outcome\", axis=1)\n",
    "y = df[\"Outcome\"]"
   ]
  },
  {
   "cell_type": "code",
   "execution_count": null,
   "id": "4a80bde5",
   "metadata": {},
   "outputs": [],
   "source": [
    "# Feature scaling"
   ]
  },
  {
   "cell_type": "code",
   "execution_count": null,
   "id": "6e506c9c",
   "metadata": {},
   "outputs": [],
   "source": [
    "scaler = StandardScaler()\n",
    "X_scaled = scaler.fit_transform(X)\n",
    "X_scaled_df = pd.DataFrame(X_scaled, columns=X.columns)\n",
    "X_scaled_df.head()"
   ]
  },
  {
   "cell_type": "code",
   "execution_count": null,
   "id": "3d34de60",
   "metadata": {},
   "outputs": [],
   "source": [
    "# Model training and evaluation with cross-validation"
   ]
  },
  {
   "cell_type": "code",
   "execution_count": null,
   "id": "f20951b5",
   "metadata": {},
   "outputs": [],
   "source": [
    "cv = StratifiedKFold(n_splits=5, shuffle=True, random_state=42)\n",
    "model = LogisticRegression(max_iter=1000, random_state=42)\n",
    "accuracy = cross_val_score(model, X_scaled, y, cv=cv, scoring='accuracy')\n",
    "precision = cross_val_score(model, X_scaled, y, cv=cv, scoring='precision')\n",
    "recall = cross_val_score(model, X_scaled, y, cv=cv, scoring='recall')\n",
    "f1 = cross_val_score(model, X_scaled, y, cv=cv, scoring='f1')\n",
    "print(\"Accuracy (mean):\", accuracy.mean())\n",
    "print(\"Precision (mean):\", precision.mean())\n",
    "print(\"Recall (mean):\", recall.mean())\n",
    "print(\"F1-score (mean):\", f1.mean())"
   ]
  },
  {
   "cell_type": "code",
   "execution_count": null,
   "id": "1437951b",
   "metadata": {},
   "outputs": [],
   "source": [
    "# Train final model on full dataset"
   ]
  },
  {
   "cell_type": "code",
   "execution_count": null,
   "id": "be40662c",
   "metadata": {},
   "outputs": [],
   "source": [
    "final_model = LogisticRegression(max_iter=1000, random_state=42)\n",
    "final_model.fit(X_scaled, y)"
   ]
  },
  {
   "cell_type": "code",
   "execution_count": null,
   "id": "9c7e0c41",
   "metadata": {},
   "outputs": [],
   "source": [
    "# Predict for a new patient"
   ]
  },
  {
   "cell_type": "code",
   "execution_count": null,
   "id": "56308b3f",
   "metadata": {},
   "outputs": [],
   "source": [
    "new_data = pd.DataFrame({\n",
    "    \"Pregnancies\": [2],\n",
    "    \"Glucose\": [130],\n",
    "    \"BloodPressure\": [80],\n",
    "    \"SkinThickness\": [25],\n",
    "    \"Insulin\": [100],\n",
    "    \"BMI\": [30.0],\n",
    "    \"DiabetesPedigreeFunction\": [0.5],\n",
    "    \"Age\": [35]\n",
    "})\n",
    "new_data_scaled = scaler.transform(new_data)\n",
    "prediction = final_model.predict(new_data_scaled)\n",
    "prob = final_model.predict_proba(new_data_scaled)\n",
    "print(\"Prediction:\", \"Diabetic\" if prediction[0] == 1 else \"Non-Diabetic\")\n",
    "print(\"Diabetes Probability:\", round(prob[0][1], 4))"
   ]
  }
 ],
 "metadata": {},
 "nbformat": 4,
 "nbformat_minor": 5
}
